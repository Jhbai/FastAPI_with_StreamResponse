{
 "cells": [
  {
   "cell_type": "code",
   "execution_count": null,
   "id": "54d6f8a6",
   "metadata": {},
   "outputs": [
    {
     "name": "stdout",
     "output_type": "stream",
     "text": [
      "\"OK\"\n"
     ]
    }
   ],
   "source": [
    "import requests\n",
    "import threading\n",
    "\n",
    "def job1():\n",
    "    url = \"http://127.0.0.1:8000/infer/predict\"\n",
    "    with requests.get(url, stream=True) as r:\n",
    "        for chunk in r.iter_content(chunk_size=None):\n",
    "            if chunk:\n",
    "                print(chunk.decode(\"utf-8\"), end=\"\")\n",
    "\n",
    "def job2():\n",
    "    url = \"http://127.0.0.1:8000/infer/home\"\n",
    "    r = requests.get(url)\n",
    "    print(r.text)\n",
    "\n",
    "t1 = threading.Thread(target=job1)\n",
    "t2 = threading.Thread(target=job2)\n",
    "\n",
    "t1.start()\n",
    "t2.start()\n",
    "t2.join()\n",
    "t1.join()\n",
    "\n"
   ]
  },
  {
   "cell_type": "code",
   "execution_count": 8,
   "id": "e8dac42f",
   "metadata": {},
   "outputs": [
    {
     "data": {
      "text/plain": [
       "b'\\xe4\\xbd\\xa0\\xe5\\xa5\\xbd \\xe7\\x86\\x8a\\xe7\\x86\\x8a \\xe9\\x80\\x99\\xe6\\x98\\xaf \\xe4\\xb8\\xb2\\xe6\\xb5\\x81 \\xe8\\xbc\\xb8\\xe5\\x87\\xba\\xe5\\x96\\x94\\xef\\xbc\\x81 '"
      ]
     },
     "execution_count": 8,
     "metadata": {},
     "output_type": "execute_result"
    }
   ],
   "source": [
    "r = requests.get(url, stream=True)\n",
    "r.content"
   ]
  }
 ],
 "metadata": {
  "kernelspec": {
   "display_name": "dev",
   "language": "python",
   "name": "python3"
  },
  "language_info": {
   "codemirror_mode": {
    "name": "ipython",
    "version": 3
   },
   "file_extension": ".py",
   "mimetype": "text/x-python",
   "name": "python",
   "nbconvert_exporter": "python",
   "pygments_lexer": "ipython3",
   "version": "3.11.5"
  }
 },
 "nbformat": 4,
 "nbformat_minor": 5
}
